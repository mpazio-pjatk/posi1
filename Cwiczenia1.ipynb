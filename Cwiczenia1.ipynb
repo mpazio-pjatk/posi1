{
  "nbformat": 4,
  "nbformat_minor": 0,
  "metadata": {
    "colab": {
      "provenance": [],
      "toc_visible": true,
      "authorship_tag": "ABX9TyNLNjBU2jzuNWSI5kJx3rWp",
      "include_colab_link": true
    },
    "kernelspec": {
      "name": "python3",
      "display_name": "Python 3"
    },
    "language_info": {
      "name": "python"
    }
  },
  "cells": [
    {
      "cell_type": "markdown",
      "metadata": {
        "id": "view-in-github",
        "colab_type": "text"
      },
      "source": [
        "<a href=\"https://colab.research.google.com/github/mpazio-pjatk/posi1/blob/main/Cwiczenia1.ipynb\" target=\"_parent\"><img src=\"https://colab.research.google.com/assets/colab-badge.svg\" alt=\"Open In Colab\"/></a>"
      ]
    },
    {
      "cell_type": "markdown",
      "source": [
        "# Ćwiczenia 1"
      ],
      "metadata": {
        "id": "Z-M--VIdAJZf"
      }
    },
    {
      "cell_type": "markdown",
      "source": [
        "W trakcie kilku pierwszych ćwiczeń zajmiemy się pracą z Google Colab. Nauczymy się podstaw dodawania nowych skryptów, ich zapisywania w repozytorium, a także podstaw pracy z typami danych, zmiennymi i innymi podstawowymi konstrukcjami, które znacie już z Javy."
      ],
      "metadata": {
        "id": "w0uXdskKAFN9"
      }
    },
    {
      "cell_type": "markdown",
      "source": [
        "## Wprowadzenie"
      ],
      "metadata": {
        "id": "ObUSshCKmC6N"
      }
    },
    {
      "cell_type": "markdown",
      "source": [
        "### Wyświetlanie danych"
      ],
      "metadata": {
        "id": "AdoGP3sjmG5r"
      }
    },
    {
      "cell_type": "code",
      "source": [
        "print(\"Hello, world!\")\n",
        "print(\"Cześć,\", \"Anna\")   # można łączyć kilka elementów"
      ],
      "metadata": {
        "colab": {
          "base_uri": "https://localhost:8080/"
        },
        "id": "QCJ3Rbi-l7HV",
        "outputId": "cf7bcf65-3cb1-4b74-c79b-79f73078ad7f"
      },
      "execution_count": 1,
      "outputs": [
        {
          "output_type": "stream",
          "name": "stdout",
          "text": [
            "Hello, world!\n",
            "Cześć, Anna\n"
          ]
        }
      ]
    },
    {
      "cell_type": "markdown",
      "source": [
        "### Zmienne i typy danych"
      ],
      "metadata": {
        "id": "oXG-ghfMmK0d"
      }
    },
    {
      "cell_type": "markdown",
      "source": [
        " Zmienną tworzymy po prostu przez przypisanie wartości:"
      ],
      "metadata": {
        "id": "-B8HTxE4mQ5a"
      }
    },
    {
      "cell_type": "code",
      "source": [
        "x = 10          # liczba całkowita (int)\n",
        "y = 3.14        # liczba zmiennoprzecinkowa (float)\n",
        "name = \"Jan\"    # napis (str)\n",
        "student = True  # wartość logiczna (bool)"
      ],
      "metadata": {
        "id": "DtGHwiMsmNKD"
      },
      "execution_count": 2,
      "outputs": []
    },
    {
      "cell_type": "markdown",
      "source": [
        "Sprawdzenie typu zmiennej:"
      ],
      "metadata": {
        "id": "ltyQAS5MmiZV"
      }
    },
    {
      "cell_type": "code",
      "source": [
        "print(type(x))     # <class 'int'>\n",
        "print(type(name))  # <class 'str'>"
      ],
      "metadata": {
        "colab": {
          "base_uri": "https://localhost:8080/"
        },
        "id": "9nsJQYK1mi-8",
        "outputId": "758cf317-d7cd-4ed8-9b3e-4156cf87f989"
      },
      "execution_count": null,
      "outputs": [
        {
          "output_type": "stream",
          "name": "stdout",
          "text": [
            "<class 'int'>\n",
            "<class 'str'>\n"
          ]
        }
      ]
    },
    {
      "cell_type": "markdown",
      "source": [
        "### Operatory arytmetyczne"
      ],
      "metadata": {
        "id": "FFMRo0BMmpu2"
      }
    },
    {
      "cell_type": "code",
      "source": [
        "a = 7\n",
        "b = 3\n",
        "print(a + b)    # dodawanie → 10\n",
        "print(a - b)    # odejmowanie → 4\n",
        "print(a * b)    # mnożenie → 21\n",
        "print(a / b)    # dzielenie → 2.333...\n",
        "print(a // b)   # dzielenie całkowite → 2\n",
        "print(a % b)    # reszta z dzielenia → 1\n",
        "print(a ** b)   # potęga → 343"
      ],
      "metadata": {
        "colab": {
          "base_uri": "https://localhost:8080/"
        },
        "id": "dmD729kEmsHX",
        "outputId": "ba0ddf74-49e0-4716-b604-f53635fb557b"
      },
      "execution_count": null,
      "outputs": [
        {
          "output_type": "stream",
          "name": "stdout",
          "text": [
            "10\n",
            "4\n",
            "21\n",
            "2.3333333333333335\n",
            "2\n",
            "1\n",
            "343\n"
          ]
        }
      ]
    },
    {
      "cell_type": "markdown",
      "source": [
        "### Operatory porównania"
      ],
      "metadata": {
        "id": "lPlG__bam4Q-"
      }
    },
    {
      "cell_type": "code",
      "source": [
        "print(5 > 3)   # True\n",
        "print(5 == 3)  # False\n",
        "print(5 != 3)  # True"
      ],
      "metadata": {
        "colab": {
          "base_uri": "https://localhost:8080/"
        },
        "id": "z5k3eaN4m6pJ",
        "outputId": "49e86cc3-a19a-410c-acda-65a50d929b07"
      },
      "execution_count": null,
      "outputs": [
        {
          "output_type": "stream",
          "name": "stdout",
          "text": [
            "True\n",
            "False\n",
            "True\n"
          ]
        }
      ]
    },
    {
      "cell_type": "markdown",
      "source": [
        "### Konwersje typów"
      ],
      "metadata": {
        "id": "Qwa3_FxGm-af"
      }
    },
    {
      "cell_type": "code",
      "source": [
        "x = \"123\"\n",
        "y = int(x)     # konwersja string → int\n",
        "print(y + 10)  # 133\n",
        "z = str(456)   # konwersja int → string\n",
        "print(\"Liczba to \" + z)"
      ],
      "metadata": {
        "colab": {
          "base_uri": "https://localhost:8080/"
        },
        "id": "_q3PZP1Im_4S",
        "outputId": "b9ec0e34-3962-4cb2-b516-b13095e72f1f"
      },
      "execution_count": null,
      "outputs": [
        {
          "output_type": "stream",
          "name": "stdout",
          "text": [
            "133\n",
            "Liczba to 456\n"
          ]
        }
      ]
    },
    {
      "cell_type": "markdown",
      "source": [
        "### Pobieranie danych od użytkownika"
      ],
      "metadata": {
        "id": "Ps8nblfVnMZk"
      }
    },
    {
      "cell_type": "code",
      "source": [
        "name = input(\"Podaj swoje imię: \")\n",
        "print(\"Cześć,\", name)\n",
        "year = int(input(\"Podaj rok urodzenia: \"))\n",
        "age = 2025 - year\n",
        "print(\"Masz\", age, \"lat.\")"
      ],
      "metadata": {
        "colab": {
          "base_uri": "https://localhost:8080/"
        },
        "id": "VKLm-WUknN5B",
        "outputId": "23af9b24-fd89-4be5-fbf0-f3c3f403799b"
      },
      "execution_count": 3,
      "outputs": [
        {
          "output_type": "stream",
          "name": "stdout",
          "text": [
            "Podaj swoje imię: Jan\n",
            "Cześć, Jan\n",
            "Podaj rok urodzenia: 2000\n",
            "Masz 25 lat.\n"
          ]
        }
      ]
    },
    {
      "cell_type": "markdown",
      "source": [
        "## Ćwiczenia 1-9"
      ],
      "metadata": {
        "id": "lDAWFxi_nmqq"
      }
    },
    {
      "cell_type": "markdown",
      "source": [
        "### Zadanie 1\n",
        "1. Utwórz zmienną o nazwie `x` i wartości `10`.\n",
        "2. Poleć komputerowi, aby pokazał wartość tej zmiennej. Spróbuj zrobić to na dwa różne sposoby: z użyciem funkcji `print` i bez niej.\n",
        "3. Spróbuj utworzyć cztery zmienne **a, b, c, d** i przypisać im wartości **10, 20, 30, 40** w jednym wierszu. Następnie wypisz wynik w konsoli."
      ],
      "metadata": {
        "id": "w4zsMJGjnoz5"
      }
    },
    {
      "cell_type": "code",
      "source": [
        "x = 10\n",
        "x"
      ],
      "metadata": {
        "id": "gtIdIIVooMRF",
        "colab": {
          "base_uri": "https://localhost:8080/"
        },
        "outputId": "0c09834d-1a1f-44b1-bcad-da880b0e6dc6"
      },
      "execution_count": 4,
      "outputs": [
        {
          "output_type": "execute_result",
          "data": {
            "text/plain": [
              "10"
            ]
          },
          "metadata": {},
          "execution_count": 4
        }
      ]
    },
    {
      "cell_type": "markdown",
      "source": [
        "### Zadanie 2\n",
        "Napisz program, który:\n",
        "1. Przypisze do zmiennej `name` Twoje imię.\n",
        "2. Wyświetli komunikat w formie:\n",
        "``` Cześć, [imię]! ```"
      ],
      "metadata": {
        "id": "3GCTbPrxoWzO"
      }
    },
    {
      "cell_type": "code",
      "source": [
        "# Twój kod tutaj"
      ],
      "metadata": {
        "id": "kSdW01krogWx"
      },
      "execution_count": null,
      "outputs": []
    },
    {
      "cell_type": "markdown",
      "source": [
        "### Zadanie 3\n",
        "1. Utwórz dwie zmienne: `a = 7`, `b = 3`\n",
        "2. Oblicz i wyświetl:\n",
        "    * sumę,\n",
        "    * różnicę,\n",
        "    * iloczyn,\n",
        "    * iloraz."
      ],
      "metadata": {
        "id": "T1ZLu6IForhk"
      }
    },
    {
      "cell_type": "code",
      "source": [
        "a = 7\n",
        "b = 3\n",
        "sum = a + b\n",
        "print(sum)"
      ],
      "metadata": {
        "id": "MvN3LraXo44Y",
        "colab": {
          "base_uri": "https://localhost:8080/"
        },
        "outputId": "e684eb97-62a1-4f5e-eeb9-9283e189ce0d"
      },
      "execution_count": 5,
      "outputs": [
        {
          "output_type": "stream",
          "name": "stdout",
          "text": [
            "10\n"
          ]
        }
      ]
    },
    {
      "cell_type": "markdown",
      "source": [
        "### Zadanie 4\n",
        "1. Utwórz zmienną `x = \"123\"`.\n",
        "2. Zamień `x` na liczbę całkowitą i dodaj do niej 10.\n",
        "3. Wynik wyświetl jako napis w formie:\n",
        "```Wynik dodawania to: 133```"
      ],
      "metadata": {
        "id": "vQSCNzpupHCu"
      }
    },
    {
      "cell_type": "code",
      "source": [
        "# Twój kod tutaj"
      ],
      "metadata": {
        "id": "FVZrkGHdpWAG"
      },
      "execution_count": null,
      "outputs": []
    },
    {
      "cell_type": "markdown",
      "source": [
        "### Zadanie 5\n",
        "Napisz program, który:\n",
        "1. Utworzy zmienne:\n",
        " * `wiek = 20`\n",
        " * `średnia = 4.75`\n",
        " * `student = True`\n",
        " * `imię = \"Anna\"`\n",
        "2. Dla każdej zmiennej wypisze jej typ, np.:\n",
        "```Zmienna wiek ma typ: <class 'int'>```"
      ],
      "metadata": {
        "id": "VkxxLwXSpfz_"
      }
    },
    {
      "cell_type": "code",
      "source": [
        "# Twój kod tutaj"
      ],
      "metadata": {
        "id": "O9NR0vCPpupn"
      },
      "execution_count": null,
      "outputs": []
    },
    {
      "cell_type": "markdown",
      "source": [
        "### Zadanie 6\n",
        "1. Poproś użytkownika o podanie swojego roku urodzenia.\n",
        "2. Oblicz jego wiek (zakładając, że mamy rok 2025).\n",
        "3. Wyświetl komunikat:\n",
        "```Masz [wiek] lat.```"
      ],
      "metadata": {
        "id": "j7zl9uEnp-gl"
      }
    },
    {
      "cell_type": "code",
      "source": [
        "# Twój kod tutaj"
      ],
      "metadata": {
        "id": "A5Z6kohfqEgI"
      },
      "execution_count": null,
      "outputs": []
    },
    {
      "cell_type": "markdown",
      "source": [
        "### Zadanie 7\n",
        "Napisz funkcję `calculator(a, b, op)`, gdzie `op`, to znak: `+`, `-`, `*`, `/`.\n",
        "\n",
        "Funkcja powinna zwrócić wynik działania, np.:\n",
        "```\n",
        "calculator(4, 2, \"+\")  # 6\n",
        "calculator(4, 2, \"/\")  # 2.0\n",
        "```"
      ],
      "metadata": {
        "id": "kKPc0E-pqHql"
      }
    },
    {
      "cell_type": "code",
      "source": [
        "def calculator(a, b, op):\n",
        "  if op == '+':\n",
        "    return a + b\n",
        "  elif op == '-':\n",
        "    return a - b\n",
        "  elif op == '*':\n",
        "    return a * b\n",
        "  else:\n",
        "    return a / b\n",
        "\n",
        "print(calculator(4, 2, \"+\"))  # 6\n",
        "print(calculator(4, 2, \"/\"))  # 2.0"
      ],
      "metadata": {
        "id": "iXJwuywHqZ7K",
        "colab": {
          "base_uri": "https://localhost:8080/"
        },
        "outputId": "106deb65-df69-4e4d-987b-aeb54a824cdc"
      },
      "execution_count": 7,
      "outputs": [
        {
          "output_type": "stream",
          "name": "stdout",
          "text": [
            "6\n",
            "2.0\n"
          ]
        }
      ]
    },
    {
      "cell_type": "markdown",
      "source": [
        "### Zadanie 8\n",
        "Napisz funkcję `bmi(weight, height)`, która:\n",
        "* oblicza wskaźnik BMI wg wzoru: BMI = $\\frac{\\text{waga}}{(\\text{wzrost})^2}$\n",
        "* zwraca komunikat:\n",
        "  * `< 18.5` → \"niedowaga\"\n",
        "  * `18.5-24.9` → \"waga prawidłowa\"\n",
        "  * `25-29.9` → \"nadwaga\"\n"
      ],
      "metadata": {
        "id": "SmnSZBNcqa44"
      }
    },
    {
      "cell_type": "code",
      "source": [
        "# Twój kod tutaj"
      ],
      "metadata": {
        "id": "aQ6yGtb3rHo-"
      },
      "execution_count": null,
      "outputs": []
    },
    {
      "cell_type": "markdown",
      "source": [
        "### Zadanie 9\n",
        " Napisz funkcję `tax(income)`, która dla podanego dochodu (`income`) obliczy podatek wg uproszczonego systemu:\n",
        "* do 30 000 zł → 10%\n",
        "* od 30 001 do 100 000 zł → 20%\n",
        "* powyżej 100 000 zł → 30%"
      ],
      "metadata": {
        "id": "BoWjwX_V7vtO"
      }
    },
    {
      "cell_type": "code",
      "source": [
        "# Twój kod tutaj"
      ],
      "metadata": {
        "id": "l6a3woqo8MYA"
      },
      "execution_count": null,
      "outputs": []
    },
    {
      "cell_type": "markdown",
      "source": [
        "##  Pętle, tablice, kolekcje"
      ],
      "metadata": {
        "id": "7bLrzBjg8Gxw"
      }
    },
    {
      "cell_type": "markdown",
      "source": [
        "### Tworzenie listy"
      ],
      "metadata": {
        "id": "XdDUAG8w8OeX"
      }
    },
    {
      "cell_type": "code",
      "source": [
        "numbers = [1, 2, 3, 4, 5]   # lista z wartościami\n",
        "empty = []                  # pusta lista\n",
        "mixed = [1, \"tekst\", 3.14]  # lista z różnymi typami"
      ],
      "metadata": {
        "id": "o5IhvAfN8RZD"
      },
      "execution_count": null,
      "outputs": []
    },
    {
      "cell_type": "markdown",
      "source": [
        "### Podstawowe operacje"
      ],
      "metadata": {
        "id": "GMYDDjoE8ZPs"
      }
    },
    {
      "cell_type": "code",
      "source": [
        "numbers = [10, 20, 30, 40]\n",
        "\n",
        "print(numbers[0])           # dostęp do elementu → 10\n",
        "print(numbers[-1])          # ostatni element → 40\n",
        "\n",
        "numbers.append(50)          # dodanie elementu na końcu\n",
        "numbers.insert(1, 15)       # wstawienie elementu na indeks\n",
        "numbers.remove(30)          # usuwa pierwsze wystąpienie 30\n",
        "numbers.pop()               # usuwa ostatni element\n",
        "numbers.sort()              # sortowanie rosnąco\n",
        "numbers.reverse()           # odwrócenie kolejności\n",
        "print(len(numbers))         # długość listy"
      ],
      "metadata": {
        "colab": {
          "base_uri": "https://localhost:8080/"
        },
        "id": "jITFcgnR8bYn",
        "outputId": "c28ec67e-7b4a-45ce-b5bb-ec33b1428733"
      },
      "execution_count": null,
      "outputs": [
        {
          "output_type": "stream",
          "name": "stdout",
          "text": [
            "10\n",
            "40\n",
            "4\n"
          ]
        }
      ]
    },
    {
      "cell_type": "markdown",
      "source": [
        "### Wyszukiwanie i sprawdzanie"
      ],
      "metadata": {
        "id": "yM0wwlH48atX"
      }
    },
    {
      "cell_type": "code",
      "source": [
        "print(20 in numbers)        # True, sprawdza obecność\n",
        "print(numbers.index(40))    # indeks elementu 40"
      ],
      "metadata": {
        "colab": {
          "base_uri": "https://localhost:8080/"
        },
        "id": "vFR5UxSs8qwz",
        "outputId": "fbe75bc4-9d2f-4853-d4dc-df8dc856545f"
      },
      "execution_count": null,
      "outputs": [
        {
          "output_type": "stream",
          "name": "stdout",
          "text": [
            "True\n",
            "0\n"
          ]
        }
      ]
    },
    {
      "cell_type": "markdown",
      "source": [
        "### Slicing (wycinanie fragmentów)"
      ],
      "metadata": {
        "id": "zn1T3osJ8u1j"
      }
    },
    {
      "cell_type": "code",
      "source": [
        "print(numbers[1:3])   # od indeksu 1 do 2\n",
        "print(numbers[:2])    # od początku do 1\n",
        "print(numbers[2:])    # od indeksu 2 do k\n",
        "print(numbers[::2])   # co drugi element"
      ],
      "metadata": {
        "colab": {
          "base_uri": "https://localhost:8080/"
        },
        "id": "8LTBCG9V8xg6",
        "outputId": "1ff04968-2fd4-48ba-aad8-0fc724607535"
      },
      "execution_count": null,
      "outputs": [
        {
          "output_type": "stream",
          "name": "stdout",
          "text": [
            "[20, 15]\n",
            "[40, 20]\n",
            "[15, 10]\n",
            "[40, 15]\n"
          ]
        }
      ]
    },
    {
      "cell_type": "markdown",
      "source": [
        "### Iteracja po elementach"
      ],
      "metadata": {
        "id": "OAxCun9384Zm"
      }
    },
    {
      "cell_type": "code",
      "source": [
        "for x in numbers:\n",
        " print(x)"
      ],
      "metadata": {
        "colab": {
          "base_uri": "https://localhost:8080/"
        },
        "id": "pKr6xkfF857t",
        "outputId": "4f3598dd-eeb9-497f-d320-8f4cdc4e86ea"
      },
      "execution_count": null,
      "outputs": [
        {
          "output_type": "stream",
          "name": "stdout",
          "text": [
            "40\n",
            "20\n",
            "15\n",
            "10\n"
          ]
        }
      ]
    },
    {
      "cell_type": "markdown",
      "source": [
        "### Iteracja po indeksach"
      ],
      "metadata": {
        "id": "oa2QQdxs886u"
      }
    },
    {
      "cell_type": "code",
      "source": [
        "for i in range(len(numbers)):\n",
        " print(i, numbers[i])"
      ],
      "metadata": {
        "colab": {
          "base_uri": "https://localhost:8080/"
        },
        "id": "MTRC5zxw8-MW",
        "outputId": "23ddc730-0952-4531-c65a-3d82e7a86e0b"
      },
      "execution_count": null,
      "outputs": [
        {
          "output_type": "stream",
          "name": "stdout",
          "text": [
            "0 40\n",
            "1 20\n",
            "2 15\n",
            "3 10\n"
          ]
        }
      ]
    },
    {
      "cell_type": "markdown",
      "source": [
        "### Enumeracja (indeks + wartość jednocześnie)"
      ],
      "metadata": {
        "id": "MCJsrNut8_vn"
      }
    },
    {
      "cell_type": "code",
      "source": [
        "for i, value in enumerate(numbers):\n",
        " print(i, value)"
      ],
      "metadata": {
        "colab": {
          "base_uri": "https://localhost:8080/"
        },
        "id": "YkN-5wSp9BFk",
        "outputId": "a6a71a67-2fcc-4d75-ffc7-48923c439a0d"
      },
      "execution_count": null,
      "outputs": [
        {
          "output_type": "stream",
          "name": "stdout",
          "text": [
            "0 40\n",
            "1 20\n",
            "2 15\n",
            "3 10\n"
          ]
        }
      ]
    },
    {
      "cell_type": "markdown",
      "source": [
        "### While loop"
      ],
      "metadata": {
        "id": "aaazWoE59CPg"
      }
    },
    {
      "cell_type": "code",
      "source": [
        " i = 0\n",
        " while i < len(numbers):\n",
        "  print(numbers[i])\n",
        "  i += 1"
      ],
      "metadata": {
        "colab": {
          "base_uri": "https://localhost:8080/"
        },
        "id": "iIz3Jvog9D-a",
        "outputId": "63719364-fc7c-4dd5-8341-3578b01b94e3"
      },
      "execution_count": null,
      "outputs": [
        {
          "output_type": "stream",
          "name": "stdout",
          "text": [
            "40\n",
            "20\n",
            "15\n",
            "10\n"
          ]
        }
      ]
    },
    {
      "cell_type": "markdown",
      "source": [
        "### List comprehension"
      ],
      "metadata": {
        "id": "AQkkdAS09GJX"
      }
    },
    {
      "cell_type": "code",
      "source": [
        "squares = [x**2 for x in numbers]\n",
        "print(squares)"
      ],
      "metadata": {
        "colab": {
          "base_uri": "https://localhost:8080/"
        },
        "id": "kw9zv6xM9HcS",
        "outputId": "8c8c4d2f-df86-4a07-95df-5c286afc3fe1"
      },
      "execution_count": null,
      "outputs": [
        {
          "output_type": "stream",
          "name": "stdout",
          "text": [
            "[1600, 400, 225, 100]\n"
          ]
        }
      ]
    },
    {
      "cell_type": "markdown",
      "source": [
        "## Ćwiczenia 10-14\n"
      ],
      "metadata": {
        "id": "5ZpI3uW79N4L"
      }
    },
    {
      "cell_type": "markdown",
      "source": [
        "### Zadanie 10 - Odwracanie listy\n",
        " Napisz funkcję, która **odwróci listę** bez używania metody `reverse()` ani ` :-1`.\n",
        "\n",
        " (np. `[\"a\", \"b\", \"c\", \"d\"] → [\"d\", \"c\", \"b\", \"a\"]`)"
      ],
      "metadata": {
        "id": "NR8_pZh39SlW"
      }
    },
    {
      "cell_type": "code",
      "source": [
        "def customReverse(list):\n",
        "  for i in range(int(len(list)/2)):\n",
        "    tmp = list[i]\n",
        "    list[i] = list[len(list) - 1 - i]\n",
        "    list[len(list) - 1 - i] = tmp\n",
        "\n",
        "list = [\"a\", \"b\", \"c\", \"d\"]\n",
        "customReverse(list)\n",
        "print(list)"
      ],
      "metadata": {
        "id": "8RR79mx39l9m",
        "colab": {
          "base_uri": "https://localhost:8080/"
        },
        "outputId": "6d6d001f-d040-44e8-e758-7d9ca6cb381a"
      },
      "execution_count": 14,
      "outputs": [
        {
          "output_type": "stream",
          "name": "stdout",
          "text": [
            "['d', 'c', 'b', 'a']\n"
          ]
        }
      ]
    },
    {
      "cell_type": "markdown",
      "source": [
        "### Zadanie 11 - Zliczanie wystąpień\n",
        "Dla listy:\n",
        "\n",
        "``` fruits = [\"apple\", \"banana\", \"apple\", \"orange\", \"banana\", \"apple\"] ```\n",
        "\n",
        "\n",
        "Policz, ile razy występuje każdy owoc i zapisz wynik w słowniku, np.:\n",
        "\n",
        "```  {\"apple\": 3, \"banana\": 2, \"orange\": 1} ```"
      ],
      "metadata": {
        "id": "NqSEMiUI9Wqo"
      }
    },
    {
      "cell_type": "code",
      "source": [
        "def count(list):\n",
        "  dict = {}\n",
        "  for x in list:\n",
        "    if dict.get(x) == None:\n",
        "      dict[x] = 1\n",
        "    # cos jeszcze\n",
        "\n",
        "  return dict\n",
        "\n",
        "fruits = [\"apple\", \"banana\", \"apple\", \"orange\", \"banana\", \"apple\"]\n",
        "print(count(fruits))"
      ],
      "metadata": {
        "id": "GZRCP0Yx94Te",
        "colab": {
          "base_uri": "https://localhost:8080/"
        },
        "outputId": "386acbfb-d311-435c-aa60-0d94a304d30c"
      },
      "execution_count": 16,
      "outputs": [
        {
          "output_type": "stream",
          "name": "stdout",
          "text": [
            "{'apple': 1, 'banana': 1, 'orange': 1}\n"
          ]
        }
      ]
    },
    {
      "cell_type": "markdown",
      "source": [
        "### Zadanie 12 - Normalizacja danych\n",
        "Masz listę wartości:\n",
        "```  data = [10, 20, 30, 40, 50] ```\n",
        "\n",
        "Napisz funkcję `normalize(data)`, która zwróci listę wartości przeskalowanych do przedziału `[0, 1]` według wzoru:\n",
        "\n",
        "$ x' = \\frac{x - min}{max - min}$"
      ],
      "metadata": {
        "id": "5HmVLCM995Kl"
      }
    },
    {
      "cell_type": "code",
      "source": [
        "# Twój kod tutaj"
      ],
      "metadata": {
        "id": "Kx4ApUK4-Zgy"
      },
      "execution_count": null,
      "outputs": []
    },
    {
      "cell_type": "markdown",
      "source": [
        "### Zadanie 13 - Bag of Words (liczenie słów)\n",
        "Masz listę zdań:\n",
        "```\n",
        "sentences = [\n",
        " \"I like Python\",\n",
        " \"Python is great for AI\",\n",
        " \"I like AI\"\n",
        "]\n",
        " ```\n",
        "\n",
        "Napisz funkcję `bag_of_words(sentences)`, która zwróci słownik z częstością występowania każdego słowa."
      ],
      "metadata": {
        "id": "MAnm4NFr-bBf"
      }
    },
    {
      "cell_type": "code",
      "source": [
        "# Twój kod tutaj"
      ],
      "metadata": {
        "id": "j_rKdrv_-qF4"
      },
      "execution_count": null,
      "outputs": []
    },
    {
      "cell_type": "markdown",
      "source": [
        "### Zadanie 14 - Liczby doskonałe\n",
        "Napisz funkcję `is_perfect(n)`, która sprawdzi, czy liczba jest **doskonała**, czyli równa sumie swoich dzielników właściwych.\n",
        "\n",
        "Przykład: `6` → dzielniki 1+2+3 = 6 → liczba doskonała."
      ],
      "metadata": {
        "id": "-OYCHz2Y-rko"
      }
    },
    {
      "cell_type": "code",
      "source": [
        "# Twój kod tutaj"
      ],
      "metadata": {
        "id": "CkSi5HzX-6jX"
      },
      "execution_count": null,
      "outputs": []
    }
  ]
}